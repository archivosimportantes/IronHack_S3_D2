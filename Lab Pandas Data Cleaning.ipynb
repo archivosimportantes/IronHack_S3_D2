{
 "cells": [
  {
   "cell_type": "markdown",
   "metadata": {
    "toc": true
   },
   "source": [
    "<h1>Table of Contents<span class=\"tocSkip\"></span></h1>\n",
    "<div class=\"toc\"><ul class=\"toc-item\"><li><span><a href=\"#Data-Cleaning\" data-toc-modified-id=\"Data-Cleaning-1\"><span class=\"toc-item-num\">1&nbsp;&nbsp;</span>Data Cleaning</a></span></li><li><span><a href=\"#Examining-Data-for-Potential-Issues\" data-toc-modified-id=\"Examining-Data-for-Potential-Issues-2\"><span class=\"toc-item-num\">2&nbsp;&nbsp;</span>Examining Data for Potential Issues</a></span></li><li><span><a href=\"#Missing-Values\" data-toc-modified-id=\"Missing-Values-3\"><span class=\"toc-item-num\">3&nbsp;&nbsp;</span>Missing Values</a></span><ul class=\"toc-item\"><li><span><a href=\"#Show-the-number-of-null-values-only-of-the-columns-that-actually-have-null-values\" data-toc-modified-id=\"Show-the-number-of-null-values-only-of-the-columns-that-actually-have-null-values-3.1\"><span class=\"toc-item-num\">3.1&nbsp;&nbsp;</span>Show the number of null values only of the columns that actually have null values</a></span></li><li><span><a href=\"#Remove-the-columns-that-have-more-than-10,000-null-values-in-them\" data-toc-modified-id=\"Remove-the-columns-that-have-more-than-10,000-null-values-in-them-3.2\"><span class=\"toc-item-num\">3.2&nbsp;&nbsp;</span>Remove the columns that have more than 10,000 null values in them</a></span></li><li><span><a href=\"#Create-a-new-dataframe-that-shows-only-the-row-where-displ-is-null.\" data-toc-modified-id=\"Create-a-new-dataframe-that-shows-only-the-row-where-displ-is-null.-3.3\"><span class=\"toc-item-num\">3.3&nbsp;&nbsp;</span>Create a new dataframe that shows only the row where <code>displ</code> is null.</a></span></li><li><span><a href=\"#Fill-nan-values-with-the-most-appropriate-technique\" data-toc-modified-id=\"Fill-nan-values-with-the-most-appropriate-technique-3.4\"><span class=\"toc-item-num\">3.4&nbsp;&nbsp;</span>Fill nan values with the most appropriate technique</a></span></li><li><span><a href=\"#Bonus:\" data-toc-modified-id=\"Bonus:-3.5\"><span class=\"toc-item-num\">3.5&nbsp;&nbsp;</span>Bonus:</a></span></li></ul></li><li><span><a href=\"#Incorrect-Values\" data-toc-modified-id=\"Incorrect-Values-4\"><span class=\"toc-item-num\">4&nbsp;&nbsp;</span>Incorrect Values</a></span><ul class=\"toc-item\"><li><span><a href=\"#Check-similar-rows\" data-toc-modified-id=\"Check-similar-rows-4.1\"><span class=\"toc-item-num\">4.1&nbsp;&nbsp;</span>Check similar rows</a></span></li><li><span><a href=\"#Bonus:\" data-toc-modified-id=\"Bonus:-4.2\"><span class=\"toc-item-num\">4.2&nbsp;&nbsp;</span>Bonus:</a></span></li></ul></li><li><span><a href=\"#Low-Variance-Columns\" data-toc-modified-id=\"Low-Variance-Columns-5\"><span class=\"toc-item-num\">5&nbsp;&nbsp;</span>Low Variance Columns</a></span><ul class=\"toc-item\"><li><span><a href=\"#Use-the-the-drop-method-like-we-did-earlier-in-this-lesson-to-remove-the-non-informative-columns-from-our-data-frame.\" data-toc-modified-id=\"Use-the-the-drop-method-like-we-did-earlier-in-this-lesson-to-remove-the-non-informative-columns-from-our-data-frame.-5.1\"><span class=\"toc-item-num\">5.1&nbsp;&nbsp;</span>Use the the drop method like we did earlier in this lesson to remove the non informative columns from our data frame.</a></span></li></ul></li><li><span><a href=\"#Extreme-Values-and-Outliers\" data-toc-modified-id=\"Extreme-Values-and-Outliers-6\"><span class=\"toc-item-num\">6&nbsp;&nbsp;</span>Extreme Values and Outliers</a></span></li><li><span><a href=\"#Data-Type-Correction\" data-toc-modified-id=\"Data-Type-Correction-7\"><span class=\"toc-item-num\">7&nbsp;&nbsp;</span>Data Type Correction</a></span><ul class=\"toc-item\"><li><span><a href=\"#Check-the-data-type-of-each-column\" data-toc-modified-id=\"Check-the-data-type-of-each-column-7.1\"><span class=\"toc-item-num\">7.1&nbsp;&nbsp;</span>Check the data type of each column</a></span></li><li><span><a href=\"#Cleaning-years\" data-toc-modified-id=\"Cleaning-years-7.2\"><span class=\"toc-item-num\">7.2&nbsp;&nbsp;</span>Cleaning years</a></span></li></ul></li><li><span><a href=\"#Cleaning-Text-and-Removing-Special-Characters\" data-toc-modified-id=\"Cleaning-Text-and-Removing-Special-Characters-8\"><span class=\"toc-item-num\">8&nbsp;&nbsp;</span>Cleaning Text and Removing Special Characters</a></span></li><li><span><a href=\"#Finding-and-Removing-Duplicates\" data-toc-modified-id=\"Finding-and-Removing-Duplicates-9\"><span class=\"toc-item-num\">9&nbsp;&nbsp;</span>Finding and Removing Duplicates</a></span><ul class=\"toc-item\"><li><span><a href=\"#Drop-duplicate-rows-that-are-completely-equal\" data-toc-modified-id=\"Drop-duplicate-rows-that-are-completely-equal-9.1\"><span class=\"toc-item-num\">9.1&nbsp;&nbsp;</span>Drop duplicate rows that are completely equal</a></span></li><li><span><a href=\"#Select-a-subset-of-columns,-remove-all-other-columns,-and-then-use-the-drop_duplicates-method-to-drop-any-duplicate-records-based-on-the-remaining-columns.\" data-toc-modified-id=\"Select-a-subset-of-columns,-remove-all-other-columns,-and-then-use-the-drop_duplicates-method-to-drop-any-duplicate-records-based-on-the-remaining-columns.-9.2\"><span class=\"toc-item-num\">9.2&nbsp;&nbsp;</span>Select a subset of columns, remove all other columns, and then use the drop_duplicates method to drop any duplicate records based on the remaining columns.</a></span></li></ul></li><li><span><a href=\"#Export-clean-dataset\" data-toc-modified-id=\"Export-clean-dataset-10\"><span class=\"toc-item-num\">10&nbsp;&nbsp;</span>Export clean dataset</a></span></li></ul></div>"
   ]
  },
  {
   "cell_type": "markdown",
   "metadata": {},
   "source": [
    "# Data Cleaning\n",
    "\n",
    "\n",
    "Lab Goals\n",
    "\n",
    "+ Examine data for potential issues.\n",
    "+ Identify and fill in missing values.\n",
    "+ Identify and correct incorrect values.\n",
    "+ Remove low variance columns.\n",
    "+ Identify potential outliers.\n",
    "+ Correct incorrect data types.\n",
    "+ Remove special characters and clean categorical variables.\n",
    "+ Identify and remove duplicate records.\n",
    "\n",
    "Introduction\n",
    "\n",
    "When working with data sets, you will find that they often require a bit of cleaning. Whether Pandas originally read the data types incorrectly, records are duplicated, the data contains special characters or missing value, or there are slightly different references to the same entity, every data analyst must know how to clean the data they are working with before analyzing it. In this lesson, you will learn about some of the most common problems that make data messy and methods for correcting those problems and cleaning your data.\n",
    "\n",
    "The data set we are going to be using for this lesson is a messy version of the vehicles data set we worked with in the previous lesson. Let's import this version of our data set so that we can then practice cleaning it up."
   ]
  },
  {
   "cell_type": "code",
   "execution_count": 983,
   "metadata": {},
   "outputs": [],
   "source": [
    "import pandas as pd\n",
    "import numpy as np"
   ]
  },
  {
   "cell_type": "code",
   "execution_count": 984,
   "metadata": {},
   "outputs": [],
   "source": [
    "#Load data from vehicles_messy.csv\n",
    "\n",
    "data = pd.read_csv('vehicles_messy_clean.csv')"
   ]
  },
  {
   "cell_type": "markdown",
   "metadata": {},
   "source": [
    "# Examining Data for Potential Issues\n",
    "\n",
    "One of the first things we want to do is examine the data and look for any **potential issues**. Some of the things we are interested in identifying in the data at this stage include:\n",
    "\n",
    "- Missing values\n",
    "- Special characters\n",
    "- Incorrect values\n",
    "- Extreme values or outliers\n",
    "- Duplicate records\n",
    "- Incorrect data types\n",
    "\n",
    "The presence of these may cause problems when it's time to analyze the data, so we want to make sure we address them beforehand. We can start by visually inspecting the data using the `.head` method, which will show us the first 5 rows of data. "
   ]
  },
  {
   "cell_type": "code",
   "execution_count": 985,
   "metadata": {},
   "outputs": [
    {
     "name": "stdout",
     "output_type": "stream",
     "text": [
      "   cylinders  displ              drive  engId fuelType         fuelType1  \\\n",
      "0        4.0    2.0   Rear-Wheel Drive   9011  Regular  Regular Gasoline   \n",
      "1        8.0    5.2   Rear-Wheel Drive   2850  Regular  Regular Gasoline   \n",
      "2        8.0    5.2   Rear-Wheel Drive   2850  Regular  Regular Gasoline   \n",
      "3        8.0    4.6  Front-Wheel Drive   4620  Premium  Premium Gasoline   \n",
      "4        8.0    4.9  Front-Wheel Drive   4640  Premium  Premium Gasoline   \n",
      "\n",
      "      id        make                model mpgData   trany        VClass  year  \\\n",
      "0      1  Alfa Romeo   Spider Veloce 2000       Y  MANUAL   Two Seaters  1985   \n",
      "1   1001       Dodge  B150/B250 Wagon 2WD       N    AUTO          Vans  1985   \n",
      "2   1002       Dodge  B150/B250 Wagon 2WD       N  MANUAL          Vans  1985   \n",
      "3  10027    Cadillac              Seville       Y    AUTO  Midsize Cars  1993   \n",
      "4  10028    Cadillac              Seville       N    AUTO  Midsize Cars  1993   \n",
      "\n",
      "                      createdOn                    modifiedOn  \n",
      "0  Tue Jan 01 00:00:00 EST 2013  Tue Jan 01 00:00:00 EST 2013  \n",
      "1  Tue Jan 01 00:00:00 EST 2013  Tue Jan 01 00:00:00 EST 2013  \n",
      "2  Tue Jan 01 00:00:00 EST 2013  Tue Jan 01 00:00:00 EST 2013  \n",
      "3  Tue Jan 01 00:00:00 EST 2013  Tue Jan 01 00:00:00 EST 2013  \n",
      "4  Tue Jan 01 00:00:00 EST 2013  Tue Jan 01 00:00:00 EST 2013  \n"
     ]
    }
   ],
   "source": [
    "print(data.head())"
   ]
  },
  {
   "cell_type": "markdown",
   "metadata": {},
   "source": [
    "But how big actually is our dataframe??? Check it with `.shape` method"
   ]
  },
  {
   "cell_type": "code",
   "execution_count": 986,
   "metadata": {},
   "outputs": [
    {
     "name": "stdout",
     "output_type": "stream",
     "text": [
      "(15823, 15)\n"
     ]
    }
   ],
   "source": [
    "print(data.shape)"
   ]
  },
  {
   "cell_type": "markdown",
   "metadata": {},
   "source": [
    "Let's dive a little more in the content of our data set. Is there any method that shows us the **column names**, its **data types** and number of **non-null values**?"
   ]
  },
  {
   "cell_type": "code",
   "execution_count": 987,
   "metadata": {},
   "outputs": [
    {
     "name": "stdout",
     "output_type": "stream",
     "text": [
      "<class 'pandas.core.frame.DataFrame'>\n",
      "RangeIndex: 15823 entries, 0 to 15822\n",
      "Data columns (total 15 columns):\n",
      " #   Column      Non-Null Count  Dtype  \n",
      "---  ------      --------------  -----  \n",
      " 0   cylinders   15823 non-null  float64\n",
      " 1   displ       15823 non-null  float64\n",
      " 2   drive       15823 non-null  object \n",
      " 3   engId       15823 non-null  int64  \n",
      " 4   fuelType    15823 non-null  object \n",
      " 5   fuelType1   15823 non-null  object \n",
      " 6   id          15823 non-null  int64  \n",
      " 7   make        15823 non-null  object \n",
      " 8   model       15823 non-null  object \n",
      " 9   mpgData     15823 non-null  object \n",
      " 10  trany       15823 non-null  object \n",
      " 11  VClass      15823 non-null  object \n",
      " 12  year        15823 non-null  int64  \n",
      " 13  createdOn   15823 non-null  object \n",
      " 14  modifiedOn  15823 non-null  object \n",
      "dtypes: float64(2), int64(3), object(10)\n",
      "memory usage: 1.8+ MB\n",
      "None\n"
     ]
    }
   ],
   "source": [
    "print(data.info())"
   ]
  },
  {
   "cell_type": "markdown",
   "metadata": {},
   "source": [
    "# Missing Values\n",
    "\n",
    "From this initial view, we can see that our data set contains some columns that have missing values in them and others that seem to have a lot of zero values. \n",
    "\n",
    "Let's see how prevalent missing values are in our data. We can use the Pandas `.isnull()` method to check whether the value in each field is missing (*null*) and return either True or False for each field. \n",
    "\n",
    "We can use the `.sum()` method to total up the number of True values by column, and then we can add a condition using square brackets that will filter the data and show us only columns where the number of null values were greater than zero. "
   ]
  },
  {
   "cell_type": "markdown",
   "metadata": {},
   "source": [
    "## Show the number of null values only of the columns that actually have null values"
   ]
  },
  {
   "cell_type": "code",
   "execution_count": 988,
   "metadata": {},
   "outputs": [
    {
     "name": "stdout",
     "output_type": "stream",
     "text": [
      "       cylinders  displ  drive  engId  fuelType  fuelType1     id   make  \\\n",
      "0          False  False  False  False     False      False  False  False   \n",
      "1          False  False  False  False     False      False  False  False   \n",
      "2          False  False  False  False     False      False  False  False   \n",
      "3          False  False  False  False     False      False  False  False   \n",
      "4          False  False  False  False     False      False  False  False   \n",
      "...          ...    ...    ...    ...       ...        ...    ...    ...   \n",
      "15818      False  False  False  False     False      False  False  False   \n",
      "15819      False  False  False  False     False      False  False  False   \n",
      "15820      False  False  False  False     False      False  False  False   \n",
      "15821      False  False  False  False     False      False  False  False   \n",
      "15822      False  False  False  False     False      False  False  False   \n",
      "\n",
      "       model  mpgData  trany  VClass   year  createdOn  modifiedOn  \n",
      "0      False    False  False   False  False      False       False  \n",
      "1      False    False  False   False  False      False       False  \n",
      "2      False    False  False   False  False      False       False  \n",
      "3      False    False  False   False  False      False       False  \n",
      "4      False    False  False   False  False      False       False  \n",
      "...      ...      ...    ...     ...    ...        ...         ...  \n",
      "15818  False    False  False   False  False      False       False  \n",
      "15819  False    False  False   False  False      False       False  \n",
      "15820  False    False  False   False  False      False       False  \n",
      "15821  False    False  False   False  False      False       False  \n",
      "15822  False    False  False   False  False      False       False  \n",
      "\n",
      "[15823 rows x 15 columns]\n"
     ]
    }
   ],
   "source": [
    "print(data.isnull())"
   ]
  },
  {
   "cell_type": "markdown",
   "metadata": {},
   "source": [
    "We can see that some columns have relatively few null values while others have tens of thousands of nulls. For fields that have a lot of null values, you will often have to make a judgement call. If you don't think the information is going to be very useful to your analysis, then you would remove those columns from your data frame. "
   ]
  },
  {
   "cell_type": "markdown",
   "metadata": {},
   "source": [
    "## Remove the columns that have more than 10,000 null values in them"
   ]
  },
  {
   "cell_type": "markdown",
   "metadata": {},
   "source": [
    "In Pandas, we can do that using the drop method. For our purposes, let's remove the columns that have more than 10,000 null values in them. We will add these column names to a list, and then we will pass those columns to the drop method and indicate that we want columns (not rows) dropped by setting the axis parameter to 1."
   ]
  },
  {
   "cell_type": "code",
   "execution_count": 989,
   "metadata": {},
   "outputs": [
    {
     "name": "stdout",
     "output_type": "stream",
     "text": [
      "cylinders     0\n",
      "displ         0\n",
      "drive         0\n",
      "engId         0\n",
      "fuelType      0\n",
      "fuelType1     0\n",
      "id            0\n",
      "make          0\n",
      "model         0\n",
      "mpgData       0\n",
      "trany         0\n",
      "VClass        0\n",
      "year          0\n",
      "createdOn     0\n",
      "modifiedOn    0\n",
      "dtype: int64\n"
     ]
    }
   ],
   "source": [
    "\n",
    "def drop_missing_columns(df, thresh=10000):\n",
    "    num_missing = df.isnull().sum()\n",
    "    df = df.drop(num_missing[num_missing > thresh].index, axis=1)\n",
    "    return df\n",
    "\n",
    "data = drop_missing_columns(data)\n",
    "\n",
    "print(data.isnull().sum())"
   ]
  },
  {
   "cell_type": "markdown",
   "metadata": {},
   "source": [
    "This leaves us with just a handful of remaining columns that have null values. Of the columns that remain, it looks like the cylinders column and the displ column have a similar number of nulls. Perhaps they are missing for similar reasons. We can investigate this by subsetting the data set and looking at just the records where displ is null and just the columns we think will be informative in allowing us to determine a reason. "
   ]
  },
  {
   "cell_type": "markdown",
   "metadata": {},
   "source": [
    "## Create a new dataframe that shows only the row where `displ` is null. \n",
    "Keep only the columns you think are useful"
   ]
  },
  {
   "cell_type": "code",
   "execution_count": 990,
   "metadata": {},
   "outputs": [
    {
     "name": "stdout",
     "output_type": "stream",
     "text": [
      "Empty DataFrame\n",
      "Columns: [cylinders, displ, drive, engId, fuelType, fuelType1, id, make, model, mpgData, trany, VClass, year, createdOn, modifiedOn]\n",
      "Index: []\n"
     ]
    }
   ],
   "source": [
    "data2 = data[data['displ'].isnull()]\n",
    "print(data2)"
   ]
  },
  {
   "cell_type": "markdown",
   "metadata": {},
   "source": [
    "## Fill nan values with the most appropriate technique \n",
    "*HINT: Electric cars do not have cylinders and can therefore not have any displacement*"
   ]
  },
  {
   "cell_type": "code",
   "execution_count": 991,
   "metadata": {},
   "outputs": [
    {
     "data": {
      "text/html": [
       "<div>\n",
       "<style scoped>\n",
       "    .dataframe tbody tr th:only-of-type {\n",
       "        vertical-align: middle;\n",
       "    }\n",
       "\n",
       "    .dataframe tbody tr th {\n",
       "        vertical-align: top;\n",
       "    }\n",
       "\n",
       "    .dataframe thead th {\n",
       "        text-align: right;\n",
       "    }\n",
       "</style>\n",
       "<table border=\"1\" class=\"dataframe\">\n",
       "  <thead>\n",
       "    <tr style=\"text-align: right;\">\n",
       "      <th></th>\n",
       "      <th>cylinders</th>\n",
       "      <th>displ</th>\n",
       "      <th>drive</th>\n",
       "      <th>engId</th>\n",
       "      <th>fuelType</th>\n",
       "      <th>fuelType1</th>\n",
       "      <th>id</th>\n",
       "      <th>make</th>\n",
       "      <th>model</th>\n",
       "      <th>mpgData</th>\n",
       "      <th>trany</th>\n",
       "      <th>VClass</th>\n",
       "      <th>year</th>\n",
       "      <th>createdOn</th>\n",
       "      <th>modifiedOn</th>\n",
       "    </tr>\n",
       "  </thead>\n",
       "  <tbody>\n",
       "    <tr>\n",
       "      <th>0</th>\n",
       "      <td>4.0</td>\n",
       "      <td>2.0</td>\n",
       "      <td>Rear-Wheel Drive</td>\n",
       "      <td>9011</td>\n",
       "      <td>Regular</td>\n",
       "      <td>Regular Gasoline</td>\n",
       "      <td>1</td>\n",
       "      <td>Alfa Romeo</td>\n",
       "      <td>Spider Veloce 2000</td>\n",
       "      <td>Y</td>\n",
       "      <td>MANUAL</td>\n",
       "      <td>Two Seaters</td>\n",
       "      <td>1985</td>\n",
       "      <td>Tue Jan 01 00:00:00 EST 2013</td>\n",
       "      <td>Tue Jan 01 00:00:00 EST 2013</td>\n",
       "    </tr>\n",
       "    <tr>\n",
       "      <th>1</th>\n",
       "      <td>8.0</td>\n",
       "      <td>5.2</td>\n",
       "      <td>Rear-Wheel Drive</td>\n",
       "      <td>2850</td>\n",
       "      <td>Regular</td>\n",
       "      <td>Regular Gasoline</td>\n",
       "      <td>1001</td>\n",
       "      <td>Dodge</td>\n",
       "      <td>B150/B250 Wagon 2WD</td>\n",
       "      <td>N</td>\n",
       "      <td>AUTO</td>\n",
       "      <td>Vans</td>\n",
       "      <td>1985</td>\n",
       "      <td>Tue Jan 01 00:00:00 EST 2013</td>\n",
       "      <td>Tue Jan 01 00:00:00 EST 2013</td>\n",
       "    </tr>\n",
       "    <tr>\n",
       "      <th>2</th>\n",
       "      <td>8.0</td>\n",
       "      <td>5.2</td>\n",
       "      <td>Rear-Wheel Drive</td>\n",
       "      <td>2850</td>\n",
       "      <td>Regular</td>\n",
       "      <td>Regular Gasoline</td>\n",
       "      <td>1002</td>\n",
       "      <td>Dodge</td>\n",
       "      <td>B150/B250 Wagon 2WD</td>\n",
       "      <td>N</td>\n",
       "      <td>MANUAL</td>\n",
       "      <td>Vans</td>\n",
       "      <td>1985</td>\n",
       "      <td>Tue Jan 01 00:00:00 EST 2013</td>\n",
       "      <td>Tue Jan 01 00:00:00 EST 2013</td>\n",
       "    </tr>\n",
       "    <tr>\n",
       "      <th>3</th>\n",
       "      <td>8.0</td>\n",
       "      <td>4.6</td>\n",
       "      <td>Front-Wheel Drive</td>\n",
       "      <td>4620</td>\n",
       "      <td>Premium</td>\n",
       "      <td>Premium Gasoline</td>\n",
       "      <td>10027</td>\n",
       "      <td>Cadillac</td>\n",
       "      <td>Seville</td>\n",
       "      <td>Y</td>\n",
       "      <td>AUTO</td>\n",
       "      <td>Midsize Cars</td>\n",
       "      <td>1993</td>\n",
       "      <td>Tue Jan 01 00:00:00 EST 2013</td>\n",
       "      <td>Tue Jan 01 00:00:00 EST 2013</td>\n",
       "    </tr>\n",
       "    <tr>\n",
       "      <th>4</th>\n",
       "      <td>8.0</td>\n",
       "      <td>4.9</td>\n",
       "      <td>Front-Wheel Drive</td>\n",
       "      <td>4640</td>\n",
       "      <td>Premium</td>\n",
       "      <td>Premium Gasoline</td>\n",
       "      <td>10028</td>\n",
       "      <td>Cadillac</td>\n",
       "      <td>Seville</td>\n",
       "      <td>N</td>\n",
       "      <td>AUTO</td>\n",
       "      <td>Midsize Cars</td>\n",
       "      <td>1993</td>\n",
       "      <td>Tue Jan 01 00:00:00 EST 2013</td>\n",
       "      <td>Tue Jan 01 00:00:00 EST 2013</td>\n",
       "    </tr>\n",
       "    <tr>\n",
       "      <th>...</th>\n",
       "      <td>...</td>\n",
       "      <td>...</td>\n",
       "      <td>...</td>\n",
       "      <td>...</td>\n",
       "      <td>...</td>\n",
       "      <td>...</td>\n",
       "      <td>...</td>\n",
       "      <td>...</td>\n",
       "      <td>...</td>\n",
       "      <td>...</td>\n",
       "      <td>...</td>\n",
       "      <td>...</td>\n",
       "      <td>...</td>\n",
       "      <td>...</td>\n",
       "      <td>...</td>\n",
       "    </tr>\n",
       "    <tr>\n",
       "      <th>15818</th>\n",
       "      <td>8.0</td>\n",
       "      <td>5.2</td>\n",
       "      <td>Rear-Wheel Drive</td>\n",
       "      <td>2854</td>\n",
       "      <td>Regular</td>\n",
       "      <td>Regular Gasoline</td>\n",
       "      <td>999</td>\n",
       "      <td>Dodge</td>\n",
       "      <td>B150/B250 Wagon 2WD</td>\n",
       "      <td>N</td>\n",
       "      <td>AUTO</td>\n",
       "      <td>Vans</td>\n",
       "      <td>1985</td>\n",
       "      <td>Tue Jan 01 00:00:00 EST 2013</td>\n",
       "      <td>Tue Jan 01 00:00:00 EST 2013</td>\n",
       "    </tr>\n",
       "    <tr>\n",
       "      <th>15819</th>\n",
       "      <td>4.0</td>\n",
       "      <td>1.9</td>\n",
       "      <td>Front-Wheel Drive</td>\n",
       "      <td>4107</td>\n",
       "      <td>Regular</td>\n",
       "      <td>Regular Gasoline</td>\n",
       "      <td>9991</td>\n",
       "      <td>Saturn</td>\n",
       "      <td>SL</td>\n",
       "      <td>Y</td>\n",
       "      <td>AUTO</td>\n",
       "      <td>Compact Cars</td>\n",
       "      <td>1993</td>\n",
       "      <td>Tue Jan 01 00:00:00 EST 2013</td>\n",
       "      <td>Tue Jan 01 00:00:00 EST 2013</td>\n",
       "    </tr>\n",
       "    <tr>\n",
       "      <th>15820</th>\n",
       "      <td>4.0</td>\n",
       "      <td>1.9</td>\n",
       "      <td>Front-Wheel Drive</td>\n",
       "      <td>4104</td>\n",
       "      <td>Regular</td>\n",
       "      <td>Regular Gasoline</td>\n",
       "      <td>9992</td>\n",
       "      <td>Saturn</td>\n",
       "      <td>SL</td>\n",
       "      <td>Y</td>\n",
       "      <td>AUTO</td>\n",
       "      <td>Compact Cars</td>\n",
       "      <td>1993</td>\n",
       "      <td>Tue Jan 01 00:00:00 EST 2013</td>\n",
       "      <td>Tue Jan 01 00:00:00 EST 2013</td>\n",
       "    </tr>\n",
       "    <tr>\n",
       "      <th>15821</th>\n",
       "      <td>4.0</td>\n",
       "      <td>1.9</td>\n",
       "      <td>Front-Wheel Drive</td>\n",
       "      <td>4107</td>\n",
       "      <td>Regular</td>\n",
       "      <td>Regular Gasoline</td>\n",
       "      <td>9993</td>\n",
       "      <td>Saturn</td>\n",
       "      <td>SL</td>\n",
       "      <td>Y</td>\n",
       "      <td>MANUAL</td>\n",
       "      <td>Compact Cars</td>\n",
       "      <td>1993</td>\n",
       "      <td>Tue Jan 01 00:00:00 EST 2013</td>\n",
       "      <td>Tue Jan 01 00:00:00 EST 2013</td>\n",
       "    </tr>\n",
       "    <tr>\n",
       "      <th>15822</th>\n",
       "      <td>4.0</td>\n",
       "      <td>1.9</td>\n",
       "      <td>Front-Wheel Drive</td>\n",
       "      <td>4104</td>\n",
       "      <td>Regular</td>\n",
       "      <td>Regular Gasoline</td>\n",
       "      <td>9994</td>\n",
       "      <td>Saturn</td>\n",
       "      <td>SL</td>\n",
       "      <td>Y</td>\n",
       "      <td>MANUAL</td>\n",
       "      <td>Compact Cars</td>\n",
       "      <td>1993</td>\n",
       "      <td>Tue Jan 01 00:00:00 EST 2013</td>\n",
       "      <td>Tue Jan 01 00:00:00 EST 2013</td>\n",
       "    </tr>\n",
       "  </tbody>\n",
       "</table>\n",
       "<p>15823 rows × 15 columns</p>\n",
       "</div>"
      ],
      "text/plain": [
       "       cylinders  displ              drive  engId fuelType         fuelType1  \\\n",
       "0            4.0    2.0   Rear-Wheel Drive   9011  Regular  Regular Gasoline   \n",
       "1            8.0    5.2   Rear-Wheel Drive   2850  Regular  Regular Gasoline   \n",
       "2            8.0    5.2   Rear-Wheel Drive   2850  Regular  Regular Gasoline   \n",
       "3            8.0    4.6  Front-Wheel Drive   4620  Premium  Premium Gasoline   \n",
       "4            8.0    4.9  Front-Wheel Drive   4640  Premium  Premium Gasoline   \n",
       "...          ...    ...                ...    ...      ...               ...   \n",
       "15818        8.0    5.2   Rear-Wheel Drive   2854  Regular  Regular Gasoline   \n",
       "15819        4.0    1.9  Front-Wheel Drive   4107  Regular  Regular Gasoline   \n",
       "15820        4.0    1.9  Front-Wheel Drive   4104  Regular  Regular Gasoline   \n",
       "15821        4.0    1.9  Front-Wheel Drive   4107  Regular  Regular Gasoline   \n",
       "15822        4.0    1.9  Front-Wheel Drive   4104  Regular  Regular Gasoline   \n",
       "\n",
       "          id        make                model mpgData   trany        VClass  \\\n",
       "0          1  Alfa Romeo   Spider Veloce 2000       Y  MANUAL   Two Seaters   \n",
       "1       1001       Dodge  B150/B250 Wagon 2WD       N    AUTO          Vans   \n",
       "2       1002       Dodge  B150/B250 Wagon 2WD       N  MANUAL          Vans   \n",
       "3      10027    Cadillac              Seville       Y    AUTO  Midsize Cars   \n",
       "4      10028    Cadillac              Seville       N    AUTO  Midsize Cars   \n",
       "...      ...         ...                  ...     ...     ...           ...   \n",
       "15818    999       Dodge  B150/B250 Wagon 2WD       N    AUTO          Vans   \n",
       "15819   9991      Saturn                   SL       Y    AUTO  Compact Cars   \n",
       "15820   9992      Saturn                   SL       Y    AUTO  Compact Cars   \n",
       "15821   9993      Saturn                   SL       Y  MANUAL  Compact Cars   \n",
       "15822   9994      Saturn                   SL       Y  MANUAL  Compact Cars   \n",
       "\n",
       "       year                     createdOn                    modifiedOn  \n",
       "0      1985  Tue Jan 01 00:00:00 EST 2013  Tue Jan 01 00:00:00 EST 2013  \n",
       "1      1985  Tue Jan 01 00:00:00 EST 2013  Tue Jan 01 00:00:00 EST 2013  \n",
       "2      1985  Tue Jan 01 00:00:00 EST 2013  Tue Jan 01 00:00:00 EST 2013  \n",
       "3      1993  Tue Jan 01 00:00:00 EST 2013  Tue Jan 01 00:00:00 EST 2013  \n",
       "4      1993  Tue Jan 01 00:00:00 EST 2013  Tue Jan 01 00:00:00 EST 2013  \n",
       "...     ...                           ...                           ...  \n",
       "15818  1985  Tue Jan 01 00:00:00 EST 2013  Tue Jan 01 00:00:00 EST 2013  \n",
       "15819  1993  Tue Jan 01 00:00:00 EST 2013  Tue Jan 01 00:00:00 EST 2013  \n",
       "15820  1993  Tue Jan 01 00:00:00 EST 2013  Tue Jan 01 00:00:00 EST 2013  \n",
       "15821  1993  Tue Jan 01 00:00:00 EST 2013  Tue Jan 01 00:00:00 EST 2013  \n",
       "15822  1993  Tue Jan 01 00:00:00 EST 2013  Tue Jan 01 00:00:00 EST 2013  \n",
       "\n",
       "[15823 rows x 15 columns]"
      ]
     },
     "execution_count": 991,
     "metadata": {},
     "output_type": "execute_result"
    }
   ],
   "source": [
    "data.fillna(0)"
   ]
  },
  {
   "cell_type": "markdown",
   "metadata": {},
   "source": [
    "## Bonus: \n",
    "Now that we have filled in those null values, there are only two columns in the data set that still have null values: trany and drive. Use what you have learned in this section to investigate and potentially fill in the remaining null values."
   ]
  },
  {
   "cell_type": "code",
   "execution_count": 992,
   "metadata": {},
   "outputs": [
    {
     "name": "stdout",
     "output_type": "stream",
     "text": [
      "Empty DataFrame\n",
      "Columns: [cylinders, displ, drive, engId, fuelType, fuelType1, id, make, model, mpgData, trany, VClass, year, createdOn, modifiedOn]\n",
      "Index: []\n",
      "Empty DataFrame\n",
      "Columns: [cylinders, displ, drive, engId, fuelType, fuelType1, id, make, model, mpgData, trany, VClass, year, createdOn, modifiedOn]\n",
      "Index: []\n"
     ]
    }
   ],
   "source": [
    "print(data[data['trany'].isnull()])\n",
    "print(data[data['drive'].isnull()])"
   ]
  },
  {
   "cell_type": "markdown",
   "metadata": {},
   "source": [
    "# Incorrect Values\n",
    "\n",
    "In addition to null values, we also want to try to identify any values that seem incorrect. For example, in the previous section, we learned that a vehicle without cylinders should not have displacement and vice versa. Let's check to see if there are any cases that violate these rules."
   ]
  },
  {
   "cell_type": "code",
   "execution_count": 993,
   "metadata": {},
   "outputs": [
    {
     "name": "stdout",
     "output_type": "stream",
     "text": [
      "Empty DataFrame\n",
      "Columns: [cylinders, displ, drive, engId, fuelType, fuelType1, id, make, model, mpgData, trany, VClass, year, createdOn, modifiedOn]\n",
      "Index: []\n",
      "Empty DataFrame\n",
      "Columns: [cylinders, displ, drive, engId, fuelType, fuelType1, id, make, model, mpgData, trany, VClass, year, createdOn, modifiedOn]\n",
      "Index: []\n"
     ]
    }
   ],
   "source": [
    "print(data[data['cylinders'].isnull() & data['displ'].notnull()])\n",
    "print(data[data['cylinders'].notnull() & data['displ'].isnull()])"
   ]
  },
  {
   "cell_type": "markdown",
   "metadata": {},
   "source": [
    "Is there any row that seems to have strange values?"
   ]
  },
  {
   "cell_type": "code",
   "execution_count": 994,
   "metadata": {},
   "outputs": [],
   "source": [
    "# No, all values seem to be reasonable"
   ]
  },
  {
   "cell_type": "markdown",
   "metadata": {},
   "source": [
    "Here we have identified a vehicle with a regular gasoline engine that reportedly does not have any cylinders but does have a value for displacement. "
   ]
  },
  {
   "cell_type": "markdown",
   "metadata": {},
   "source": [
    "The way we would correct this would be to either perform some domain research or ask a domain expert to find out how many actual cylinders this vehicle had. Alternatively, you can also try to look at similar vehicles in the data set and determine the most likely value for this field."
   ]
  },
  {
   "cell_type": "markdown",
   "metadata": {},
   "source": [
    "## Check similar rows"
   ]
  },
  {
   "cell_type": "code",
   "execution_count": 995,
   "metadata": {},
   "outputs": [
    {
     "name": "stdout",
     "output_type": "stream",
     "text": [
      "Empty DataFrame\n",
      "Columns: [cylinders, displ, drive, engId, fuelType, fuelType1, id, make, model, mpgData, trany, VClass, year, createdOn, modifiedOn]\n",
      "Index: []\n",
      "       cylinders  displ              drive  engId fuelType         fuelType1  \\\n",
      "0            4.0    2.0   Rear-Wheel Drive   9011  Regular  Regular Gasoline   \n",
      "1            8.0    5.2   Rear-Wheel Drive   2850  Regular  Regular Gasoline   \n",
      "2            8.0    5.2   Rear-Wheel Drive   2850  Regular  Regular Gasoline   \n",
      "3            8.0    4.6  Front-Wheel Drive   4620  Premium  Premium Gasoline   \n",
      "4            8.0    4.9  Front-Wheel Drive   4640  Premium  Premium Gasoline   \n",
      "...          ...    ...                ...    ...      ...               ...   \n",
      "15818        8.0    5.2   Rear-Wheel Drive   2854  Regular  Regular Gasoline   \n",
      "15819        4.0    1.9  Front-Wheel Drive   4107  Regular  Regular Gasoline   \n",
      "15820        4.0    1.9  Front-Wheel Drive   4104  Regular  Regular Gasoline   \n",
      "15821        4.0    1.9  Front-Wheel Drive   4107  Regular  Regular Gasoline   \n",
      "15822        4.0    1.9  Front-Wheel Drive   4104  Regular  Regular Gasoline   \n",
      "\n",
      "          id        make                model mpgData   trany        VClass  \\\n",
      "0          1  Alfa Romeo   Spider Veloce 2000       Y  MANUAL   Two Seaters   \n",
      "1       1001       Dodge  B150/B250 Wagon 2WD       N    AUTO          Vans   \n",
      "2       1002       Dodge  B150/B250 Wagon 2WD       N  MANUAL          Vans   \n",
      "3      10027    Cadillac              Seville       Y    AUTO  Midsize Cars   \n",
      "4      10028    Cadillac              Seville       N    AUTO  Midsize Cars   \n",
      "...      ...         ...                  ...     ...     ...           ...   \n",
      "15818    999       Dodge  B150/B250 Wagon 2WD       N    AUTO          Vans   \n",
      "15819   9991      Saturn                   SL       Y    AUTO  Compact Cars   \n",
      "15820   9992      Saturn                   SL       Y    AUTO  Compact Cars   \n",
      "15821   9993      Saturn                   SL       Y  MANUAL  Compact Cars   \n",
      "15822   9994      Saturn                   SL       Y  MANUAL  Compact Cars   \n",
      "\n",
      "       year                     createdOn                    modifiedOn  \n",
      "0      1985  Tue Jan 01 00:00:00 EST 2013  Tue Jan 01 00:00:00 EST 2013  \n",
      "1      1985  Tue Jan 01 00:00:00 EST 2013  Tue Jan 01 00:00:00 EST 2013  \n",
      "2      1985  Tue Jan 01 00:00:00 EST 2013  Tue Jan 01 00:00:00 EST 2013  \n",
      "3      1993  Tue Jan 01 00:00:00 EST 2013  Tue Jan 01 00:00:00 EST 2013  \n",
      "4      1993  Tue Jan 01 00:00:00 EST 2013  Tue Jan 01 00:00:00 EST 2013  \n",
      "...     ...                           ...                           ...  \n",
      "15818  1985  Tue Jan 01 00:00:00 EST 2013  Tue Jan 01 00:00:00 EST 2013  \n",
      "15819  1993  Tue Jan 01 00:00:00 EST 2013  Tue Jan 01 00:00:00 EST 2013  \n",
      "15820  1993  Tue Jan 01 00:00:00 EST 2013  Tue Jan 01 00:00:00 EST 2013  \n",
      "15821  1993  Tue Jan 01 00:00:00 EST 2013  Tue Jan 01 00:00:00 EST 2013  \n",
      "15822  1993  Tue Jan 01 00:00:00 EST 2013  Tue Jan 01 00:00:00 EST 2013  \n",
      "\n",
      "[15823 rows x 15 columns]\n",
      "Empty DataFrame\n",
      "Columns: [cylinders, displ, drive, engId, fuelType, fuelType1, id, make, model, mpgData, trany, VClass, year, createdOn, modifiedOn]\n",
      "Index: []\n",
      "Empty DataFrame\n",
      "Columns: [cylinders, displ, drive, engId, fuelType, fuelType1, id, make, model, mpgData, trany, VClass, year, createdOn, modifiedOn]\n",
      "Index: []\n",
      "Empty DataFrame\n",
      "Columns: [cylinders, displ, drive, engId, fuelType, fuelType1, id, make, model, mpgData, trany, VClass, year, createdOn, modifiedOn]\n",
      "Index: []\n",
      "       cylinders  displ              drive  engId fuelType         fuelType1  \\\n",
      "0            4.0    2.0   Rear-Wheel Drive   9011  Regular  Regular Gasoline   \n",
      "1            8.0    5.2   Rear-Wheel Drive   2850  Regular  Regular Gasoline   \n",
      "2            8.0    5.2   Rear-Wheel Drive   2850  Regular  Regular Gasoline   \n",
      "3            8.0    4.6  Front-Wheel Drive   4620  Premium  Premium Gasoline   \n",
      "4            8.0    4.9  Front-Wheel Drive   4640  Premium  Premium Gasoline   \n",
      "...          ...    ...                ...    ...      ...               ...   \n",
      "15818        8.0    5.2   Rear-Wheel Drive   2854  Regular  Regular Gasoline   \n",
      "15819        4.0    1.9  Front-Wheel Drive   4107  Regular  Regular Gasoline   \n",
      "15820        4.0    1.9  Front-Wheel Drive   4104  Regular  Regular Gasoline   \n",
      "15821        4.0    1.9  Front-Wheel Drive   4107  Regular  Regular Gasoline   \n",
      "15822        4.0    1.9  Front-Wheel Drive   4104  Regular  Regular Gasoline   \n",
      "\n",
      "          id        make                model mpgData   trany        VClass  \\\n",
      "0          1  Alfa Romeo   Spider Veloce 2000       Y  MANUAL   Two Seaters   \n",
      "1       1001       Dodge  B150/B250 Wagon 2WD       N    AUTO          Vans   \n",
      "2       1002       Dodge  B150/B250 Wagon 2WD       N  MANUAL          Vans   \n",
      "3      10027    Cadillac              Seville       Y    AUTO  Midsize Cars   \n",
      "4      10028    Cadillac              Seville       N    AUTO  Midsize Cars   \n",
      "...      ...         ...                  ...     ...     ...           ...   \n",
      "15818    999       Dodge  B150/B250 Wagon 2WD       N    AUTO          Vans   \n",
      "15819   9991      Saturn                   SL       Y    AUTO  Compact Cars   \n",
      "15820   9992      Saturn                   SL       Y    AUTO  Compact Cars   \n",
      "15821   9993      Saturn                   SL       Y  MANUAL  Compact Cars   \n",
      "15822   9994      Saturn                   SL       Y  MANUAL  Compact Cars   \n",
      "\n",
      "       year                     createdOn                    modifiedOn  \n",
      "0      1985  Tue Jan 01 00:00:00 EST 2013  Tue Jan 01 00:00:00 EST 2013  \n",
      "1      1985  Tue Jan 01 00:00:00 EST 2013  Tue Jan 01 00:00:00 EST 2013  \n",
      "2      1985  Tue Jan 01 00:00:00 EST 2013  Tue Jan 01 00:00:00 EST 2013  \n",
      "3      1993  Tue Jan 01 00:00:00 EST 2013  Tue Jan 01 00:00:00 EST 2013  \n",
      "4      1993  Tue Jan 01 00:00:00 EST 2013  Tue Jan 01 00:00:00 EST 2013  \n",
      "...     ...                           ...                           ...  \n",
      "15818  1985  Tue Jan 01 00:00:00 EST 2013  Tue Jan 01 00:00:00 EST 2013  \n",
      "15819  1993  Tue Jan 01 00:00:00 EST 2013  Tue Jan 01 00:00:00 EST 2013  \n",
      "15820  1993  Tue Jan 01 00:00:00 EST 2013  Tue Jan 01 00:00:00 EST 2013  \n",
      "15821  1993  Tue Jan 01 00:00:00 EST 2013  Tue Jan 01 00:00:00 EST 2013  \n",
      "15822  1993  Tue Jan 01 00:00:00 EST 2013  Tue Jan 01 00:00:00 EST 2013  \n",
      "\n",
      "[15823 rows x 15 columns]\n",
      "Empty DataFrame\n",
      "Columns: [cylinders, displ, drive, engId, fuelType, fuelType1, id, make, model, mpgData, trany, VClass, year, createdOn, modifiedOn]\n",
      "Index: []\n",
      "Empty DataFrame\n",
      "Columns: [cylinders, displ, drive, engId, fuelType, fuelType1, id, make, model, mpgData, trany, VClass, year, createdOn, modifiedOn]\n",
      "Index: []\n",
      "Empty DataFrame\n",
      "Columns: [cylinders, displ, drive, engId, fuelType, fuelType1, id, make, model, mpgData, trany, VClass, year, createdOn, modifiedOn]\n",
      "Index: []\n",
      "Empty DataFrame\n",
      "Columns: [cylinders, displ, drive, engId, fuelType, fuelType1, id, make, model, mpgData, trany, VClass, year, createdOn, modifiedOn]\n",
      "Index: []\n",
      "Empty DataFrame\n",
      "Columns: [cylinders, displ, drive, engId, fuelType, fuelType1, id, make, model, mpgData, trany, VClass, year, createdOn, modifiedOn]\n",
      "Index: []\n",
      "Empty DataFrame\n",
      "Columns: [cylinders, displ, drive, engId, fuelType, fuelType1, id, make, model, mpgData, trany, VClass, year, createdOn, modifiedOn]\n",
      "Index: []\n",
      "       cylinders  displ              drive  engId fuelType         fuelType1  \\\n",
      "0            4.0    2.0   Rear-Wheel Drive   9011  Regular  Regular Gasoline   \n",
      "1            8.0    5.2   Rear-Wheel Drive   2850  Regular  Regular Gasoline   \n",
      "2            8.0    5.2   Rear-Wheel Drive   2850  Regular  Regular Gasoline   \n",
      "3            8.0    4.6  Front-Wheel Drive   4620  Premium  Premium Gasoline   \n",
      "4            8.0    4.9  Front-Wheel Drive   4640  Premium  Premium Gasoline   \n",
      "...          ...    ...                ...    ...      ...               ...   \n",
      "15818        8.0    5.2   Rear-Wheel Drive   2854  Regular  Regular Gasoline   \n",
      "15819        4.0    1.9  Front-Wheel Drive   4107  Regular  Regular Gasoline   \n",
      "15820        4.0    1.9  Front-Wheel Drive   4104  Regular  Regular Gasoline   \n",
      "15821        4.0    1.9  Front-Wheel Drive   4107  Regular  Regular Gasoline   \n",
      "15822        4.0    1.9  Front-Wheel Drive   4104  Regular  Regular Gasoline   \n",
      "\n",
      "          id        make                model mpgData   trany        VClass  \\\n",
      "0          1  Alfa Romeo   Spider Veloce 2000       Y  MANUAL   Two Seaters   \n",
      "1       1001       Dodge  B150/B250 Wagon 2WD       N    AUTO          Vans   \n",
      "2       1002       Dodge  B150/B250 Wagon 2WD       N  MANUAL          Vans   \n",
      "3      10027    Cadillac              Seville       Y    AUTO  Midsize Cars   \n",
      "4      10028    Cadillac              Seville       N    AUTO  Midsize Cars   \n",
      "...      ...         ...                  ...     ...     ...           ...   \n",
      "15818    999       Dodge  B150/B250 Wagon 2WD       N    AUTO          Vans   \n",
      "15819   9991      Saturn                   SL       Y    AUTO  Compact Cars   \n",
      "15820   9992      Saturn                   SL       Y    AUTO  Compact Cars   \n",
      "15821   9993      Saturn                   SL       Y  MANUAL  Compact Cars   \n",
      "15822   9994      Saturn                   SL       Y  MANUAL  Compact Cars   \n",
      "\n",
      "       year                     createdOn                    modifiedOn  \n",
      "0      1985  Tue Jan 01 00:00:00 EST 2013  Tue Jan 01 00:00:00 EST 2013  \n",
      "1      1985  Tue Jan 01 00:00:00 EST 2013  Tue Jan 01 00:00:00 EST 2013  \n",
      "2      1985  Tue Jan 01 00:00:00 EST 2013  Tue Jan 01 00:00:00 EST 2013  \n",
      "3      1993  Tue Jan 01 00:00:00 EST 2013  Tue Jan 01 00:00:00 EST 2013  \n",
      "4      1993  Tue Jan 01 00:00:00 EST 2013  Tue Jan 01 00:00:00 EST 2013  \n",
      "...     ...                           ...                           ...  \n",
      "15818  1985  Tue Jan 01 00:00:00 EST 2013  Tue Jan 01 00:00:00 EST 2013  \n",
      "15819  1993  Tue Jan 01 00:00:00 EST 2013  Tue Jan 01 00:00:00 EST 2013  \n",
      "15820  1993  Tue Jan 01 00:00:00 EST 2013  Tue Jan 01 00:00:00 EST 2013  \n",
      "15821  1993  Tue Jan 01 00:00:00 EST 2013  Tue Jan 01 00:00:00 EST 2013  \n",
      "15822  1993  Tue Jan 01 00:00:00 EST 2013  Tue Jan 01 00:00:00 EST 2013  \n",
      "\n",
      "[15823 rows x 15 columns]\n"
     ]
    }
   ],
   "source": [
    "print(data[data['cylinders'].isnull() & data['displ'].isnull()])\n",
    "print(data[data['cylinders'].notnull() & data['displ'].notnull()])\n",
    "print(data[data['cylinders'].isnull() & data['displ'].isnull() & data['trany'].notnull()])\n",
    "print(data[data['cylinders'].notnull() & data['displ'].notnull() & data['trany'].isnull()])\n",
    "print(data[data['cylinders'].isnull() & data['displ'].isnull() & data['trany'].isnull()])\n",
    "print(data[data['cylinders'].notnull() & data['displ'].notnull() & data['trany'].notnull()])\n",
    "print(data[data['cylinders'].isnull() & data['displ'].notnull() & data['trany'].notnull()])\n",
    "print(data[data['cylinders'].notnull() & data['displ'].isnull() & data['trany'].notnull()])\n",
    "print(data[data['cylinders'].notnull() & data['displ'].notnull() & data['trany'].isnull()])\n",
    "print(data[data['cylinders'].notnull() & data['displ'].isnull() & data['trany'].isnull()])\n",
    "print(data[data['cylinders'].isnull() & data['displ'].notnull() & data['trany'].isnull()])\n",
    "print(data[data['cylinders'].isnull() & data['displ'].isnull() & data['trany'].notnull()])\n",
    "print(data[data['cylinders'].notnull() & data['displ'].notnull() & data['trany'].notnull()])"
   ]
  },
  {
   "cell_type": "markdown",
   "metadata": {},
   "source": [
    "Suppose that using one of the aforementioned methods, we found out that this vehicle actually has a 4 cylinder engine. Update that specific value in the data frame. "
   ]
  },
  {
   "cell_type": "code",
   "execution_count": 996,
   "metadata": {},
   "outputs": [
    {
     "name": "stdout",
     "output_type": "stream",
     "text": [
      "cylinders                              4.0\n",
      "displ                                  4.3\n",
      "drive                     Rear-Wheel Drive\n",
      "engId                                 4850\n",
      "fuelType                           Regular\n",
      "fuelType1                 Regular Gasoline\n",
      "id                                    1026\n",
      "make                                   GMC\n",
      "model               Safari 2WD (passenger)\n",
      "mpgData                                  N\n",
      "trany                               MANUAL\n",
      "VClass                                Vans\n",
      "year                                  1985\n",
      "createdOn     Tue Jan 01 00:00:00 EST 2013\n",
      "modifiedOn    Tue Jan 01 00:00:00 EST 2013\n",
      "Name: 111, dtype: object\n"
     ]
    }
   ],
   "source": [
    "data.loc[111, 'cylinders'] = 4\n",
    "print(data.iloc()[111])"
   ]
  },
  {
   "cell_type": "markdown",
   "metadata": {},
   "source": [
    "## Bonus: \n",
    " Try to find other values that might be incorrect in the data set based on what you know about automobiles and correct them."
   ]
  },
  {
   "cell_type": "code",
   "execution_count": 997,
   "metadata": {},
   "outputs": [
    {
     "name": "stdout",
     "output_type": "stream",
     "text": [
      "Empty DataFrame\n",
      "Columns: [cylinders, displ, drive, engId, fuelType, fuelType1, id, make, model, mpgData, trany, VClass, year, createdOn, modifiedOn]\n",
      "Index: []\n"
     ]
    }
   ],
   "source": [
    "data.loc[data['fuelType1'] == 'Electricity', 'cylinders'] = 0\n",
    "print(data[data['fuelType1'] == 'Electricity'])"
   ]
  },
  {
   "cell_type": "markdown",
   "metadata": {},
   "source": [
    "# Low Variance Columns\n",
    "\n",
    "When analyzing data, we want the fields we are working with to be informative, and we will want to strip away any columns that don't have a lot of value to us. One easy way to do this is to identify columns that have low variance, where the majority of the values in the column are the same. Since there is not a lot of variability in these columns, they have the potential to not be as informative as columns that have a variety of different values in them.\n",
    "\n",
    "Let's try to identify columns where at least 90% of the values are the same so that we can remove them from our data set. To do this, we are going to create an empty list called low_variance that will eventually contain the names of columns that fit our criteria.\n",
    "\n",
    "We will then write a for loop that will take the minimum and the 90th percentile value for all the numeric columns in our data set (identified via the _get_numeric_data method). If the 90th percentile and the minimum are equal to each other, that means that at least 90% of the values in that column are the same and we will append that column name to our low_variance list."
   ]
  },
  {
   "cell_type": "code",
   "execution_count": 998,
   "metadata": {},
   "outputs": [
    {
     "name": "stdout",
     "output_type": "stream",
     "text": [
      "['id']\n"
     ]
    }
   ],
   "source": [
    "low_variance = []\n",
    "def identify_low_variance(df, thresh=0.9):\n",
    "    for col in df._get_numeric_data():\n",
    "        minimum = min(df[col].value_counts(normalize=True))\n",
    "        ninety_perc = np.percentile(df[col].value_counts(normalize=True), 90)\n",
    "        if ninety_perc == minimum:\n",
    "            low_variance.append(col)\n",
    "    return low_variance\n",
    "\n",
    "print(identify_low_variance(data))"
   ]
  },
  {
   "cell_type": "markdown",
   "metadata": {},
   "source": [
    "This returned 34 columns that we could potentially eliminate due to not having high enough variability to be informative. Of course, before we do this, we should check the values that do exist in these fields to confirm that they are not very informative. Once they have been checked, we can use the the drop method like we did earlier in this lesson to remove those columns from our data frame.\n",
    "\n"
   ]
  },
  {
   "cell_type": "markdown",
   "metadata": {},
   "source": [
    "## Use the the drop method like we did earlier in this lesson to remove the non informative columns from our data frame."
   ]
  },
  {
   "cell_type": "code",
   "execution_count": 999,
   "metadata": {},
   "outputs": [
    {
     "name": "stdout",
     "output_type": "stream",
     "text": [
      "   cylinders  displ              drive  engId fuelType         fuelType1  \\\n",
      "0        4.0    2.0   Rear-Wheel Drive   9011  Regular  Regular Gasoline   \n",
      "1        8.0    5.2   Rear-Wheel Drive   2850  Regular  Regular Gasoline   \n",
      "2        8.0    5.2   Rear-Wheel Drive   2850  Regular  Regular Gasoline   \n",
      "3        8.0    4.6  Front-Wheel Drive   4620  Premium  Premium Gasoline   \n",
      "4        8.0    4.9  Front-Wheel Drive   4640  Premium  Premium Gasoline   \n",
      "\n",
      "         make                model mpgData   trany        VClass  year  \\\n",
      "0  Alfa Romeo   Spider Veloce 2000       Y  MANUAL   Two Seaters  1985   \n",
      "1       Dodge  B150/B250 Wagon 2WD       N    AUTO          Vans  1985   \n",
      "2       Dodge  B150/B250 Wagon 2WD       N  MANUAL          Vans  1985   \n",
      "3    Cadillac              Seville       Y    AUTO  Midsize Cars  1993   \n",
      "4    Cadillac              Seville       N    AUTO  Midsize Cars  1993   \n",
      "\n",
      "                      createdOn                    modifiedOn  \n",
      "0  Tue Jan 01 00:00:00 EST 2013  Tue Jan 01 00:00:00 EST 2013  \n",
      "1  Tue Jan 01 00:00:00 EST 2013  Tue Jan 01 00:00:00 EST 2013  \n",
      "2  Tue Jan 01 00:00:00 EST 2013  Tue Jan 01 00:00:00 EST 2013  \n",
      "3  Tue Jan 01 00:00:00 EST 2013  Tue Jan 01 00:00:00 EST 2013  \n",
      "4  Tue Jan 01 00:00:00 EST 2013  Tue Jan 01 00:00:00 EST 2013  \n"
     ]
    }
   ],
   "source": [
    "data = data.drop(low_variance, axis=1)\n",
    "print(data.head())"
   ]
  },
  {
   "cell_type": "markdown",
   "metadata": {},
   "source": [
    "# Extreme Values and Outliers\n",
    "\n",
    "Now that we have removed low variance columns, we should look for outliers, or extreme values, in the columns that remain. These outliers can influence our aggregations when we are analyzing data later, so we want to make sure we address them during our data cleaning stage.\n",
    "\n",
    "A common method for identifying outliers is one that leverages the interquartile range (IQR). Once the IQR is calculated, it is multiplied by a constant (typically 1.5) and lower and upper bounds are established at:\n",
    "\n",
    "    25th Percentile - (IQR x 1.5)\n",
    "    75th Percentile + (IQR x 1.5)\n",
    "\n",
    "Any values outside this range are potential outliers and should be investigated.\n",
    "\n",
    "Let's look at how we would do this for our data set using Python. We will use the Pandas describe function to easily calculate the 25th and 75th percentiles for every column and transpose the results so that we can easily reference the values in calculating the interquartile ranges.\n",
    "\n"
   ]
  },
  {
   "cell_type": "code",
   "execution_count": 1000,
   "metadata": {},
   "outputs": [
    {
     "data": {
      "text/html": [
       "<div>\n",
       "<style scoped>\n",
       "    .dataframe tbody tr th:only-of-type {\n",
       "        vertical-align: middle;\n",
       "    }\n",
       "\n",
       "    .dataframe tbody tr th {\n",
       "        vertical-align: top;\n",
       "    }\n",
       "\n",
       "    .dataframe thead th {\n",
       "        text-align: right;\n",
       "    }\n",
       "</style>\n",
       "<table border=\"1\" class=\"dataframe\">\n",
       "  <thead>\n",
       "    <tr style=\"text-align: right;\">\n",
       "      <th></th>\n",
       "      <th>count</th>\n",
       "      <th>mean</th>\n",
       "      <th>std</th>\n",
       "      <th>min</th>\n",
       "      <th>25%</th>\n",
       "      <th>50%</th>\n",
       "      <th>75%</th>\n",
       "      <th>max</th>\n",
       "      <th>IQR</th>\n",
       "    </tr>\n",
       "  </thead>\n",
       "  <tbody>\n",
       "    <tr>\n",
       "      <th>cylinders</th>\n",
       "      <td>15823.0</td>\n",
       "      <td>6.086520</td>\n",
       "      <td>1.467780</td>\n",
       "      <td>2.0</td>\n",
       "      <td>5.0</td>\n",
       "      <td>6.0</td>\n",
       "      <td>8.0</td>\n",
       "      <td>8.0</td>\n",
       "      <td>3.0</td>\n",
       "    </tr>\n",
       "    <tr>\n",
       "      <th>displ</th>\n",
       "      <td>15823.0</td>\n",
       "      <td>3.727100</td>\n",
       "      <td>1.240799</td>\n",
       "      <td>1.3</td>\n",
       "      <td>2.5</td>\n",
       "      <td>3.7</td>\n",
       "      <td>4.7</td>\n",
       "      <td>7.0</td>\n",
       "      <td>2.2</td>\n",
       "    </tr>\n",
       "    <tr>\n",
       "      <th>engId</th>\n",
       "      <td>15823.0</td>\n",
       "      <td>1494.669026</td>\n",
       "      <td>2039.825130</td>\n",
       "      <td>0.0</td>\n",
       "      <td>0.0</td>\n",
       "      <td>0.0</td>\n",
       "      <td>3641.0</td>\n",
       "      <td>10802.0</td>\n",
       "      <td>3641.0</td>\n",
       "    </tr>\n",
       "    <tr>\n",
       "      <th>year</th>\n",
       "      <td>15823.0</td>\n",
       "      <td>1998.998673</td>\n",
       "      <td>8.298513</td>\n",
       "      <td>1984.0</td>\n",
       "      <td>1992.0</td>\n",
       "      <td>2001.0</td>\n",
       "      <td>2006.0</td>\n",
       "      <td>2012.0</td>\n",
       "      <td>14.0</td>\n",
       "    </tr>\n",
       "  </tbody>\n",
       "</table>\n",
       "</div>"
      ],
      "text/plain": [
       "             count         mean          std     min     25%     50%     75%  \\\n",
       "cylinders  15823.0     6.086520     1.467780     2.0     5.0     6.0     8.0   \n",
       "displ      15823.0     3.727100     1.240799     1.3     2.5     3.7     4.7   \n",
       "engId      15823.0  1494.669026  2039.825130     0.0     0.0     0.0  3641.0   \n",
       "year       15823.0  1998.998673     8.298513  1984.0  1992.0  2001.0  2006.0   \n",
       "\n",
       "               max     IQR  \n",
       "cylinders      8.0     3.0  \n",
       "displ          7.0     2.2  \n",
       "engId      10802.0  3641.0  \n",
       "year        2012.0    14.0  "
      ]
     },
     "execution_count": 1000,
     "metadata": {},
     "output_type": "execute_result"
    }
   ],
   "source": [
    "stats = data.describe().transpose()\n",
    "stats['IQR'] = stats['75%'] - stats['25%']\n",
    "stats"
   ]
  },
  {
   "cell_type": "markdown",
   "metadata": {},
   "source": [
    "We will then create an empty data frame called outliers with the same columns as our data set. Finally, we will loop through each column in the data calculating the lower and upper bounds, retrieving records where the value for that column falls outside the bounds we established, and appending those results to our outlier data frame."
   ]
  },
  {
   "cell_type": "code",
   "execution_count": 1001,
   "metadata": {},
   "outputs": [
    {
     "data": {
      "text/html": [
       "<div>\n",
       "<style scoped>\n",
       "    .dataframe tbody tr th:only-of-type {\n",
       "        vertical-align: middle;\n",
       "    }\n",
       "\n",
       "    .dataframe tbody tr th {\n",
       "        vertical-align: top;\n",
       "    }\n",
       "\n",
       "    .dataframe thead th {\n",
       "        text-align: right;\n",
       "    }\n",
       "</style>\n",
       "<table border=\"1\" class=\"dataframe\">\n",
       "  <thead>\n",
       "    <tr style=\"text-align: right;\">\n",
       "      <th></th>\n",
       "      <th>cylinders</th>\n",
       "      <th>displ</th>\n",
       "      <th>drive</th>\n",
       "      <th>engId</th>\n",
       "      <th>fuelType</th>\n",
       "      <th>fuelType1</th>\n",
       "      <th>make</th>\n",
       "      <th>model</th>\n",
       "      <th>mpgData</th>\n",
       "      <th>trany</th>\n",
       "      <th>VClass</th>\n",
       "      <th>year</th>\n",
       "      <th>createdOn</th>\n",
       "      <th>modifiedOn</th>\n",
       "      <th>Outlier</th>\n",
       "    </tr>\n",
       "  </thead>\n",
       "  <tbody>\n",
       "    <tr>\n",
       "      <th>166</th>\n",
       "      <td>4.0</td>\n",
       "      <td>2.5</td>\n",
       "      <td>Rear-Wheel Drive</td>\n",
       "      <td>9580</td>\n",
       "      <td>Regular</td>\n",
       "      <td>Regular Gasoline</td>\n",
       "      <td>AM General</td>\n",
       "      <td>Post Office DJ5 2WD</td>\n",
       "      <td>N</td>\n",
       "      <td>AUTO</td>\n",
       "      <td>Special Purpose Vehicle 2WD</td>\n",
       "      <td>1985</td>\n",
       "      <td>Tue Jan 01 00:00:00 EST 2013</td>\n",
       "      <td>Tue Jan 01 00:00:00 EST 2013</td>\n",
       "      <td>engId</td>\n",
       "    </tr>\n",
       "    <tr>\n",
       "      <th>173</th>\n",
       "      <td>6.0</td>\n",
       "      <td>4.2</td>\n",
       "      <td>Rear-Wheel Drive</td>\n",
       "      <td>9590</td>\n",
       "      <td>Regular</td>\n",
       "      <td>Regular Gasoline</td>\n",
       "      <td>AM General</td>\n",
       "      <td>Post Office DJ8 2WD</td>\n",
       "      <td>N</td>\n",
       "      <td>AUTO</td>\n",
       "      <td>Special Purpose Vehicle 2WD</td>\n",
       "      <td>1985</td>\n",
       "      <td>Tue Jan 01 00:00:00 EST 2013</td>\n",
       "      <td>Tue Jan 01 00:00:00 EST 2013</td>\n",
       "      <td>engId</td>\n",
       "    </tr>\n",
       "    <tr>\n",
       "      <th>3921</th>\n",
       "      <td>8.0</td>\n",
       "      <td>4.9</td>\n",
       "      <td>Rear-Wheel Drive</td>\n",
       "      <td>10186</td>\n",
       "      <td>Regular</td>\n",
       "      <td>Regular Gasoline</td>\n",
       "      <td>Autokraft Limited</td>\n",
       "      <td>A.C.Mkiv</td>\n",
       "      <td>N</td>\n",
       "      <td>MANUAL</td>\n",
       "      <td>Two Seaters</td>\n",
       "      <td>1986</td>\n",
       "      <td>Tue Jan 01 00:00:00 EST 2013</td>\n",
       "      <td>Tue Jan 01 00:00:00 EST 2013</td>\n",
       "      <td>engId</td>\n",
       "    </tr>\n",
       "    <tr>\n",
       "      <th>11860</th>\n",
       "      <td>8.0</td>\n",
       "      <td>5.0</td>\n",
       "      <td>Rear-Wheel Drive</td>\n",
       "      <td>10187</td>\n",
       "      <td>Regular</td>\n",
       "      <td>Regular Gasoline</td>\n",
       "      <td>Autokraft Limited</td>\n",
       "      <td>A.C.Mkiv</td>\n",
       "      <td>N</td>\n",
       "      <td>MANUAL</td>\n",
       "      <td>Two Seaters</td>\n",
       "      <td>1987</td>\n",
       "      <td>Tue Jan 01 00:00:00 EST 2013</td>\n",
       "      <td>Tue Jan 01 00:00:00 EST 2013</td>\n",
       "      <td>engId</td>\n",
       "    </tr>\n",
       "    <tr>\n",
       "      <th>13128</th>\n",
       "      <td>6.0</td>\n",
       "      <td>2.5</td>\n",
       "      <td>Front-Wheel Drive</td>\n",
       "      <td>10801</td>\n",
       "      <td>Regular</td>\n",
       "      <td>Regular Gasoline</td>\n",
       "      <td>Sterling</td>\n",
       "      <td>825</td>\n",
       "      <td>N</td>\n",
       "      <td>AUTO</td>\n",
       "      <td>Compact Cars</td>\n",
       "      <td>1987</td>\n",
       "      <td>Tue Jan 01 00:00:00 EST 2013</td>\n",
       "      <td>Tue Jan 01 00:00:00 EST 2013</td>\n",
       "      <td>engId</td>\n",
       "    </tr>\n",
       "  </tbody>\n",
       "</table>\n",
       "</div>"
      ],
      "text/plain": [
       "       cylinders  displ              drive  engId fuelType         fuelType1  \\\n",
       "166          4.0    2.5   Rear-Wheel Drive   9580  Regular  Regular Gasoline   \n",
       "173          6.0    4.2   Rear-Wheel Drive   9590  Regular  Regular Gasoline   \n",
       "3921         8.0    4.9   Rear-Wheel Drive  10186  Regular  Regular Gasoline   \n",
       "11860        8.0    5.0   Rear-Wheel Drive  10187  Regular  Regular Gasoline   \n",
       "13128        6.0    2.5  Front-Wheel Drive  10801  Regular  Regular Gasoline   \n",
       "\n",
       "                    make                model mpgData   trany  \\\n",
       "166           AM General  Post Office DJ5 2WD       N    AUTO   \n",
       "173           AM General  Post Office DJ8 2WD       N    AUTO   \n",
       "3921   Autokraft Limited             A.C.Mkiv       N  MANUAL   \n",
       "11860  Autokraft Limited             A.C.Mkiv       N  MANUAL   \n",
       "13128           Sterling                  825       N    AUTO   \n",
       "\n",
       "                            VClass  year                     createdOn  \\\n",
       "166    Special Purpose Vehicle 2WD  1985  Tue Jan 01 00:00:00 EST 2013   \n",
       "173    Special Purpose Vehicle 2WD  1985  Tue Jan 01 00:00:00 EST 2013   \n",
       "3921                   Two Seaters  1986  Tue Jan 01 00:00:00 EST 2013   \n",
       "11860                  Two Seaters  1987  Tue Jan 01 00:00:00 EST 2013   \n",
       "13128                 Compact Cars  1987  Tue Jan 01 00:00:00 EST 2013   \n",
       "\n",
       "                         modifiedOn Outlier  \n",
       "166    Tue Jan 01 00:00:00 EST 2013   engId  \n",
       "173    Tue Jan 01 00:00:00 EST 2013   engId  \n",
       "3921   Tue Jan 01 00:00:00 EST 2013   engId  \n",
       "11860  Tue Jan 01 00:00:00 EST 2013   engId  \n",
       "13128  Tue Jan 01 00:00:00 EST 2013   engId  "
      ]
     },
     "execution_count": 1001,
     "metadata": {},
     "output_type": "execute_result"
    }
   ],
   "source": [
    "outliers = pd.DataFrame(columns=data.columns)\n",
    "\n",
    "for col in stats.index:\n",
    "    iqr = stats.at[col,'IQR']\n",
    "    cutoff = iqr * 1.5\n",
    "    lower = stats.at[col,'25%'] - cutoff\n",
    "    upper = stats.at[col,'75%'] + cutoff\n",
    "    results = data[(data[col] < lower) | \n",
    "                   (data[col] > upper)].copy()\n",
    "    results['Outlier'] = col\n",
    "    outliers = outliers.append(results)\n",
    "outliers.head()"
   ]
  },
  {
   "cell_type": "markdown",
   "metadata": {},
   "source": [
    "Our outliers data frame should now be populated with records that you can investigate further and determine whether they should be kept in the data or dropped. The Outlier column we added before appending the results for the column to the outliers data frame will let you know what column in each record contained the outlier. If you find that this method is returning too many results, you can be more stringent with your cutoff criteria (e.g. increasing the constant by which you multiply the IQR to 3 instead of 1.5)."
   ]
  },
  {
   "cell_type": "markdown",
   "metadata": {},
   "source": [
    "# Data Type Correction\n",
    "\n",
    "One common problem that is often overlooked is incorrect data types. This typically occurs when there is a numeric variable that should actually be represented as a categorical variable. "
   ]
  },
  {
   "cell_type": "markdown",
   "metadata": {},
   "source": [
    "## Check the data type of each column"
   ]
  },
  {
   "cell_type": "code",
   "execution_count": 1009,
   "metadata": {},
   "outputs": [
    {
     "data": {
      "text/plain": [
       "year           int32\n",
       "make          object\n",
       "model         object\n",
       "displ        float64\n",
       "cylinders    float64\n",
       "trany         object\n",
       "drive         object\n",
       "VClass        object\n",
       "fuelType1     object\n",
       "dtype: object"
      ]
     },
     "execution_count": 1009,
     "metadata": {},
     "output_type": "execute_result"
    }
   ],
   "source": [
    "data.dtypes"
   ]
  },
  {
   "cell_type": "markdown",
   "metadata": {},
   "source": [
    "## Cleaning years\n",
    "Do you think column year is a continuous variable? Would you change it onto another dtype?"
   ]
  },
  {
   "cell_type": "code",
   "execution_count": 1003,
   "metadata": {},
   "outputs": [
    {
     "data": {
      "text/plain": [
       "cylinders     float64\n",
       "displ         float64\n",
       "drive          object\n",
       "engId           int64\n",
       "fuelType       object\n",
       "fuelType1      object\n",
       "make           object\n",
       "model          object\n",
       "mpgData        object\n",
       "trany          object\n",
       "VClass         object\n",
       "year            int32\n",
       "createdOn      object\n",
       "modifiedOn     object\n",
       "dtype: object"
      ]
     },
     "execution_count": 1003,
     "metadata": {},
     "output_type": "execute_result"
    }
   ],
   "source": [
    "data['year'] = data['year'].astype(int)\n",
    "data.dtypes"
   ]
  },
  {
   "cell_type": "markdown",
   "metadata": {},
   "source": [
    "You can apply this technique to any column whose data type you would like to change."
   ]
  },
  {
   "cell_type": "code",
   "execution_count": 1004,
   "metadata": {},
   "outputs": [
    {
     "name": "stderr",
     "output_type": "stream",
     "text": [
      "c:\\Users\\Usuario\\anaconda3\\lib\\site-packages\\dateutil\\parser\\_parser.py:1207: UnknownTimezoneWarning: tzname EST identified but not understood.  Pass `tzinfos` argument in order to correctly return a timezone-aware datetime.  In a future version, this will raise an exception.\n",
      "  warnings.warn(\"tzname {tzname} identified but not understood.  \"\n",
      "c:\\Users\\Usuario\\anaconda3\\lib\\site-packages\\dateutil\\parser\\_parser.py:1207: UnknownTimezoneWarning: tzname EDT identified but not understood.  Pass `tzinfos` argument in order to correctly return a timezone-aware datetime.  In a future version, this will raise an exception.\n",
      "  warnings.warn(\"tzname {tzname} identified but not understood.  \"\n"
     ]
    },
    {
     "data": {
      "text/plain": [
       "cylinders            float64\n",
       "displ                float64\n",
       "drive                 object\n",
       "engId                  int64\n",
       "fuelType              object\n",
       "fuelType1             object\n",
       "make                  object\n",
       "model                 object\n",
       "mpgData               object\n",
       "trany                 object\n",
       "VClass                object\n",
       "year                   int32\n",
       "createdOn     datetime64[ns]\n",
       "modifiedOn    datetime64[ns]\n",
       "dtype: object"
      ]
     },
     "execution_count": 1004,
     "metadata": {},
     "output_type": "execute_result"
    }
   ],
   "source": [
    "\"Change the data type of createdOn to datetime64[ns]\"\n",
    "data['createdOn'] = pd.to_datetime(data['createdOn'])\n",
    "data['modifiedOn'] = pd.to_datetime(data['modifiedOn'])\n",
    "data.dtypes"
   ]
  },
  {
   "cell_type": "markdown",
   "metadata": {},
   "source": [
    "# Cleaning Text and Removing Special Characters\n",
    "\n",
    "The presence of special characters in our fields has the potential to make analyzing our data challenging. Imagine not being able to perform calculations on a numeric field because it was currently represented as an object data type due to the fact that it had a dollar sign ($) in it. \n",
    "\n",
    "Similarly, imagine having a categorical field where you could not group records that belong in the same group together because in one field you are grouping by, terms that refer to the same thing are sometimes hyphenated. In cases like this, it is necessary to remove special characters so that we can properly analyze the data.\n",
    "\n",
    "In our vehicles data set, the trany field has several special characters (parentheses, hyphens, etc.). Check the unique values and clean the column.\n",
    "\n",
    "hint: check the `replace` function"
   ]
  },
  {
   "cell_type": "code",
   "execution_count": 1005,
   "metadata": {},
   "outputs": [
    {
     "name": "stdout",
     "output_type": "stream",
     "text": [
      "cylinders [4. 8. 6. 5. 2.]\n",
      "displ [2.  5.2 4.6 4.9 3.3 2.5 3.  3.8 2.2 5.7 4.3 5.  3.5 1.9 6.2 2.8 3.9 5.9\n",
      " 4.  5.8 2.3 4.2 3.1 2.6 1.8 3.2 2.1 6.5 3.4 2.4 1.6 4.1 5.4 4.4 1.5 2.9\n",
      " 3.7 2.7 4.7 4.8 5.3 6.  5.5 3.6 4.5 1.3 5.6 6.1 7.  1.7 6.3 1.4]\n",
      "drive ['Rear-Wheel Drive' 'Front-Wheel Drive' '4-Wheel or All-Wheel Drive'\n",
      " 'All-Wheel Drive' 'Part-time 4-Wheel Drive' '4-Wheel Drive' 'unknown'\n",
      " '2-Wheel Drive']\n",
      "engId [9011 2850 4620 ... 2949 2977 2878]\n",
      "fuelType ['Regular' 'Premium' 'Diesel' 'Midgrade']\n",
      "fuelType1 ['Regular Gasoline' 'Premium Gasoline' 'Diesel' 'Midgrade Gasoline']\n",
      "make ['Alfa Romeo' 'Dodge' 'Cadillac' 'Chrysler' 'Ford' 'Mercury' 'Oldsmobile'\n",
      " 'Plymouth' 'Buick' 'Chevrolet' 'Eagle' 'Lincoln' 'GMC' 'Pontiac' 'Saturn'\n",
      " 'Jeep' 'AM General' 'American Motors Corporation' 'Mazda' 'Isuzu' 'Acura'\n",
      " 'Aston Martin' 'BMW' 'Lotus' 'Porsche' 'Suzuki' 'Audi' 'Hyundai' 'Jaguar'\n",
      " 'Kia' 'Lexus' 'Mercedes-Benz' 'Mitsubishi' 'Nissan' 'Subaru' 'Toyota'\n",
      " 'Volkswagen' 'Volvo' 'Daewoo' 'Infiniti' 'Honda' 'Land Rover' 'Bentley'\n",
      " 'Saab' 'Autokraft Limited' 'Morgan' 'BMW Alpina' 'Scion' 'Spyker'\n",
      " 'Ferrari' 'Maserati' 'Hummer' 'MINI' 'Roush Performance' 'Shelby'\n",
      " 'Saleen Performance' 'Tecstar, LP' 'Yugo' 'Wallace Environmental'\n",
      " 'Import Trade Services' 'J.K. Motors' 'CX Automotive' 'Peugeot' 'Panos'\n",
      " 'Saleen' 'Quantum Technologies' 'London Taxi' 'Red Shift Ltd.' 'Sterling'\n",
      " 'Aurora Cars Ltd' 'General Motors']\n",
      "model ['Spider Veloce 2000' 'B150/B250 Wagon 2WD' 'Seville' ...\n",
      " 'Imperial/New Yorker Fifth Avenue' 'Cavalier Wagon'\n",
      " 'Caravan C/V/Grand Caravan 4WD']\n",
      "mpgData ['Y' 'N']\n",
      "trany ['MANUAL' 'AUTO']\n",
      "VClass ['Two Seaters' 'Vans' 'Midsize Cars' 'Large Cars' 'Small Station Wagons'\n",
      " 'Small Pickup Trucks' 'Standard Pickup Trucks'\n",
      " 'Special Purpose Vehicle 2WD' 'Special Purpose Vehicles'\n",
      " 'Special Purpose Vehicle 4WD' 'Compact Cars' 'Subcompact Cars'\n",
      " 'Minicompact Cars' 'Small Pickup Trucks 2WD' 'Standard Pickup Trucks 2WD'\n",
      " 'Standard Pickup Trucks 4WD' 'Vans, Cargo Type' 'Vans, Passenger Type'\n",
      " 'Minivan - 2WD' 'Minivan - 4WD' 'Sport Utility Vehicle - 2WD'\n",
      " 'Sport Utility Vehicle - 4WD' 'Midsize Station Wagons'\n",
      " 'Small Pickup Trucks 4WD' 'Midsize-Large Station Wagons'\n",
      " 'Special Purpose Vehicle' 'Standard Pickup Trucks/2wd' 'Vans Passenger'\n",
      " 'Special Purpose Vehicles/2wd' 'Special Purpose Vehicles/4wd']\n",
      "year [1985 1993 1994 1995 1996 1997 1998 1999 2000 2001 1986 2002 2003 2004\n",
      " 2005 2006 2007 2008 2009 2010 1984 1987 1988 1989 1990 1991 1992 2011\n",
      " 2012]\n",
      "createdOn ['2013-01-01T00:00:00.000000000' '2013-12-04T00:00:00.000000000'\n",
      " '2014-02-17T00:00:00.000000000']\n",
      "modifiedOn ['2013-01-01T00:00:00.000000000' '2014-08-14T00:00:00.000000000'\n",
      " '2014-05-05T00:00:00.000000000' '2014-11-07T00:00:00.000000000'\n",
      " '2014-07-07T00:00:00.000000000' '2016-08-17T00:00:00.000000000'\n",
      " '2015-03-25T00:00:00.000000000' '2014-01-06T00:00:00.000000000'\n",
      " '2016-04-04T00:00:00.000000000' '2013-12-04T00:00:00.000000000'\n",
      " '2016-03-10T00:00:00.000000000' '2016-07-07T00:00:00.000000000'\n",
      " '2016-07-27T00:00:00.000000000']\n"
     ]
    }
   ],
   "source": [
    "for col in data.columns:\n",
    "    print(col, data[col].unique())\n"
   ]
  },
  {
   "cell_type": "markdown",
   "metadata": {},
   "source": [
    "As you can see, we now have no special characters, consistent naming, and proper spacing. We started out with 47 unique values in this column, and using this technique, we were able to reduce the number of unique values to 39.\n",
    "\n",
    "\n",
    "\n",
    "# Finding and Removing Duplicates\n",
    "\n",
    "The final topic we are going to cover in this lab is how to identify and remove duplicate rows (or rows that refer to the same entity) in our data. When trying to identify duplicates, we will use the columns (or attributes) of the data to help us determine what entities are similar enough to be considered the same entity. We want to start with all the columns we currently have available to us and work our way toward a lesser number of attributes in an intuitive fashion. In this process, the act of dropping duplicated records is easy, but identifying the correct attributes for comparison and which records to drop is sometimes quite challenging.\n",
    "\n",
    "The first thing we will do is attempt to drop any duplicate records, considering all the columns we currently have in the data set. \n",
    "\n",
    "Pandas provides us with the ability to do that via the `drop_duplicates method`."
   ]
  },
  {
   "cell_type": "markdown",
   "metadata": {},
   "source": [
    "## Drop duplicate rows that are completely equal"
   ]
  },
  {
   "cell_type": "code",
   "execution_count": 1006,
   "metadata": {},
   "outputs": [
    {
     "name": "stdout",
     "output_type": "stream",
     "text": [
      "(15380, 14)\n"
     ]
    }
   ],
   "source": [
    "data = data.drop_duplicates()\n",
    "print(data.shape)"
   ]
  },
  {
   "cell_type": "markdown",
   "metadata": {},
   "source": [
    "This tells us that there were no records that matched exactly across all columns. However, if we reduce the number of columns in our data that we are interested in, we can try again and have a higher likelihood of finding duplicate records. "
   ]
  },
  {
   "cell_type": "markdown",
   "metadata": {},
   "source": [
    "## Select a subset of columns, remove all other columns, and then use the drop_duplicates method to drop any duplicate records based on the remaining columns."
   ]
  },
  {
   "cell_type": "code",
   "execution_count": 1007,
   "metadata": {},
   "outputs": [
    {
     "name": "stdout",
     "output_type": "stream",
     "text": [
      "(13969, 9)\n"
     ]
    }
   ],
   "source": [
    "\"\"\"Select a subset of columns, remove all other columns, and then use the drop_duplicates method to drop any duplicate records based on the remaining columns.\"\"\"\n",
    "data = data[['year', 'make', 'model', 'displ', 'cylinders', 'trany', 'drive', 'VClass', 'fuelType1']]\n",
    "data = data.drop_duplicates()\n",
    "print(data.shape)\n"
   ]
  },
  {
   "cell_type": "markdown",
   "metadata": {},
   "source": [
    "With the reduced number of columns, we were able to identify and drop 885 duplicate records."
   ]
  },
  {
   "cell_type": "markdown",
   "metadata": {},
   "source": [
    "# Export clean dataset\n",
    "Export your bright new clean dataset into a csv file and store it in data folder."
   ]
  },
  {
   "cell_type": "code",
   "execution_count": 1008,
   "metadata": {},
   "outputs": [],
   "source": [
    "data.to_csv('vehicles_cleaned.csv', index=False)"
   ]
  }
 ],
 "metadata": {
  "kernelspec": {
   "display_name": "Python 3 (ipykernel)",
   "language": "python",
   "name": "python3"
  },
  "language_info": {
   "codemirror_mode": {
    "name": "ipython",
    "version": 3
   },
   "file_extension": ".py",
   "mimetype": "text/x-python",
   "name": "python",
   "nbconvert_exporter": "python",
   "pygments_lexer": "ipython3",
   "version": "3.9.7"
  },
  "toc": {
   "base_numbering": 1,
   "nav_menu": {},
   "number_sections": true,
   "sideBar": true,
   "skip_h1_title": false,
   "title_cell": "Table of Contents",
   "title_sidebar": "Contents",
   "toc_cell": true,
   "toc_position": {},
   "toc_section_display": true,
   "toc_window_display": false
  },
  "varInspector": {
   "cols": {
    "lenName": 16,
    "lenType": 16,
    "lenVar": 40
   },
   "kernels_config": {
    "python": {
     "delete_cmd_postfix": "",
     "delete_cmd_prefix": "del ",
     "library": "var_list.py",
     "varRefreshCmd": "print(var_dic_list())"
    },
    "r": {
     "delete_cmd_postfix": ") ",
     "delete_cmd_prefix": "rm(",
     "library": "var_list.r",
     "varRefreshCmd": "cat(var_dic_list()) "
    }
   },
   "types_to_exclude": [
    "module",
    "function",
    "builtin_function_or_method",
    "instance",
    "_Feature"
   ],
   "window_display": false
  }
 },
 "nbformat": 4,
 "nbformat_minor": 2
}
